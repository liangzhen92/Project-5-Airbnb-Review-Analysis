{
 "cells": [
  {
   "cell_type": "code",
   "execution_count": 58,
   "metadata": {},
   "outputs": [],
   "source": [
    "import pandas as pd\n",
    "import numpy as np\n",
    "import seaborn as sns\n",
    "import nltk\n",
    "import gensim\n",
    "import matplotlib.pyplot as plt\n",
    "import re\n",
    "import pickle \n",
    "# Initializing the train model\n",
    "from gensim.models import word2vec\n",
    "pd.set_option('display.max_colwidth', -1)\n",
    "pd.set_option('display.max_columns', 500)\n",
    "import warnings\n",
    "warnings.filterwarnings('ignore')"
   ]
  },
  {
   "cell_type": "code",
   "execution_count": 59,
   "metadata": {},
   "outputs": [],
   "source": [
    "with open('df_final.pkl','rb') as read_file:\n",
    "    df_final = pickle.load(read_file)"
   ]
  },
  {
   "cell_type": "code",
   "execution_count": 60,
   "metadata": {},
   "outputs": [
    {
     "data": {
      "text/plain": [
       "294894"
      ]
     },
     "execution_count": 60,
     "metadata": {},
     "output_type": "execute_result"
    }
   ],
   "source": [
    "len(df_final)"
   ]
  },
  {
   "cell_type": "code",
   "execution_count": 61,
   "metadata": {},
   "outputs": [],
   "source": [
    "# checked duplicates, no duplicated reviews identified\n",
    "df_final.drop_duplicates(subset=['comments'], inplace = True)"
   ]
  },
  {
   "cell_type": "markdown",
   "metadata": {},
   "source": [
    "## Train Word2Vec Model"
   ]
  },
  {
   "cell_type": "code",
   "execution_count": 62,
   "metadata": {},
   "outputs": [],
   "source": [
    "reviews_comments = df_final.iloc[:,5]"
   ]
  },
  {
   "cell_type": "code",
   "execution_count": 63,
   "metadata": {},
   "outputs": [],
   "source": [
    "def ProcessTextforSentiment(text):\n",
    "    text_1 = [re.sub(\"[^a-zA-Z]\",\" \", review) for review in text]\n",
    "    text_2 = [text.lower().split() for text in text_1]\n",
    "    return text_2\n",
    "#     text_2 = [text.split() for text in text_1]\n",
    "#     return text_2"
   ]
  },
  {
   "cell_type": "code",
   "execution_count": 64,
   "metadata": {},
   "outputs": [],
   "source": [
    "review_text_split_lower = ProcessTextforSentiment(reviews_comments)"
   ]
  },
  {
   "cell_type": "code",
   "execution_count": 66,
   "metadata": {},
   "outputs": [],
   "source": [
    "bigram = gensim.models.Phrases(review_text_split_lower, min_count=10) # min_count ignore all words and bigrams with total collected count lower than this value. higher threshold fewer phrases.\n",
    "\n",
    "trigram = gensim.models.Phrases(bigram[review_text_split_lower], min_count=5)  \n",
    "\n",
    "# Faster way to get a sentence clubbed as a trigram/bigram\n",
    "bigram_model = gensim.models.phrases.Phraser(bigram)\n",
    "trigram_model = gensim.models.phrases.Phraser(trigram)"
   ]
  },
  {
   "cell_type": "code",
   "execution_count": 67,
   "metadata": {},
   "outputs": [],
   "source": [
    "review_text_1 = [trigram_model[bigram_model[t]] for t in review_text_split_lower]"
   ]
  },
  {
   "cell_type": "code",
   "execution_count": 68,
   "metadata": {},
   "outputs": [
    {
     "data": {
      "text/plain": [
       "294894"
      ]
     },
     "execution_count": 68,
     "metadata": {},
     "output_type": "execute_result"
    }
   ],
   "source": [
    "len(review_text_1)"
   ]
  },
  {
   "cell_type": "code",
   "execution_count": 69,
   "metadata": {},
   "outputs": [],
   "source": [
    "with open('review_text_1_adjusted.pkl', 'wb') as f:\n",
    "    pickle.dump(review_text_1, f)"
   ]
  },
  {
   "cell_type": "code",
   "execution_count": 70,
   "metadata": {},
   "outputs": [],
   "source": [
    "# after process the text, use it to create the word2vec model\n",
    "# the idea behind word2vec is simple: it is analogous to \"show me your friends, and i'll tell who you are\" \n",
    "# if two words have very similar neighbors, then these words are probably quite similar in meaning\n",
    "# assumption is that the meaning of a word can be inferred by the company it keeps\n",
    "# Creating the model and setting values for the various parameters\n",
    "num_features = 300  # Word vector dimensionality\n",
    "min_word_count = 40 # Minimum word count\n",
    "num_workers = 7     # Number of parallel threads\n",
    "context = 10        # Context window size\n",
    "downsampling = 1e-3 # (0.001) Downsample setting for frequent words\n",
    "\n",
    "#print(\"Training model....\")\n",
    "model_word2vec = word2vec.Word2Vec(review_text_1,\n",
    "                          workers=num_workers,\n",
    "                          size=num_features,\n",
    "                          min_count=min_word_count,\n",
    "                          window=context,\n",
    "                          sample=downsampling)\n",
    "\n",
    "# To make the model memory efficient\n",
    "model_word2vec.init_sims(replace=True)"
   ]
  },
  {
   "cell_type": "code",
   "execution_count": 71,
   "metadata": {},
   "outputs": [],
   "source": [
    "# Saving the model for later use. Can be loaded using Word2Vec.load()\n",
    "\n",
    "model_name = \"300features_40minwords_10context_no_stopword_adjusted\"\n",
    "model_word2vec.save(model_name)"
   ]
  },
  {
   "cell_type": "code",
   "execution_count": 72,
   "metadata": {},
   "outputs": [
    {
     "data": {
      "text/plain": [
       "(10414, 300)"
      ]
     },
     "execution_count": 72,
     "metadata": {},
     "output_type": "execute_result"
    }
   ],
   "source": [
    "model_word2vec.wv.vectors.shape"
   ]
  },
  {
   "cell_type": "code",
   "execution_count": 73,
   "metadata": {},
   "outputs": [],
   "source": [
    "#transform each reveiw into a 300 D vector\n",
    "\n",
    "# from gensim.models import Word2Vec\n",
    "# model_word2vec = Word2Vec.load(\"300features_40minwords_10context_no_stopword\")"
   ]
  },
  {
   "cell_type": "code",
   "execution_count": 74,
   "metadata": {},
   "outputs": [],
   "source": [
    "#transform each reveiw into a 300 D vector\n",
    "index2word_set =  set(model_word2vec.wv.index2word)\n",
    "\n",
    "# Function to average all word vectors in a paragraph\n",
    "def featureVecMethod(words, model, num_features, index2word_set):\n",
    "    # Pre-initialising empty numpy array for speed\n",
    "    featureVec = np.zeros(num_features,dtype=\"float32\")\n",
    "    nwords = 0\n",
    "\n",
    "    for word in  words: # loop over each word string in review\n",
    "        if word in index2word_set: # determine if the word is in 300 word features\n",
    "            nwords = nwords + 1 # if yes, then add 1 to the total number of words for each review\n",
    "            featureVec = np.add(featureVec,model[word]) # add model results of this word to featureVec (this will form a sum of model results of each word for each review)\n",
    "#             print(featureVec.shape) \n",
    "    \n",
    "    # Dividing the result by number of words to get average\n",
    "    featureVec = np.divide(featureVec, nwords)  \n",
    "    return featureVec"
   ]
  },
  {
   "cell_type": "code",
   "execution_count": 75,
   "metadata": {},
   "outputs": [],
   "source": [
    "# Function for calculating the average feature vector\n",
    "num_features = 300\n",
    "def getAvgFeatureVecs(reviews, model, num_features,index2word_set):\n",
    "    counter = 0\n",
    "    reviewFeatureVecs = np.zeros((len(reviews),num_features),dtype=\"float32\") # create a (305913, 300) array\n",
    "    for review in reviews: # loop over list of reviews:\n",
    "        # Printing a status message every 1000th review\n",
    "#         if counter%1000 == 0:\n",
    "#             print(\"Review %d of %d\"%(counter,len(reviews)))\n",
    "            \n",
    "        reviewFeatureVecs[counter] = featureVecMethod(review, model, num_features, index2word_set) # call function featureVecMethod for each reivew  \n",
    "        counter = counter+1 # count how many reviews get iterated through, used as index of review\n",
    "        \n",
    "    return reviewFeatureVecs"
   ]
  },
  {
   "cell_type": "code",
   "execution_count": 76,
   "metadata": {},
   "outputs": [],
   "source": [
    "review_vector = getAvgFeatureVecs(review_text_1, model_word2vec, num_features, index2word_set) # not sure what does each score represent in word2Vec???? \n"
   ]
  },
  {
   "cell_type": "code",
   "execution_count": 77,
   "metadata": {},
   "outputs": [
    {
     "data": {
      "text/plain": [
       "(294894, 300)"
      ]
     },
     "execution_count": 77,
     "metadata": {},
     "output_type": "execute_result"
    }
   ],
   "source": [
    "review_vector.shape"
   ]
  },
  {
   "cell_type": "code",
   "execution_count": 78,
   "metadata": {},
   "outputs": [],
   "source": [
    "import pickle \n",
    "\n",
    "with open('review_vector_adjusted.pkl', 'wb') as f:\n",
    "    pickle.dump(review_vector, f)"
   ]
  },
  {
   "cell_type": "code",
   "execution_count": 79,
   "metadata": {},
   "outputs": [],
   "source": [
    "#have to fillin na for next step training\n",
    "def ProcessWordVec(array):\n",
    "    df = pd.DataFrame(array)\n",
    "    column_mean= df.mean()\n",
    "    df.fillna(column_mean, inplace = True)\n",
    "    return df"
   ]
  },
  {
   "cell_type": "code",
   "execution_count": 80,
   "metadata": {},
   "outputs": [],
   "source": [
    "X = ProcessWordVec(review_vector)"
   ]
  },
  {
   "cell_type": "code",
   "execution_count": 82,
   "metadata": {},
   "outputs": [],
   "source": [
    "#our response variable is the star from our dataframe\n",
    "y = df_final['review_scores_rating_adjusted']"
   ]
  },
  {
   "cell_type": "code",
   "execution_count": 83,
   "metadata": {},
   "outputs": [],
   "source": [
    "from sklearn.model_selection import train_test_split\n",
    "X_train, X_test, y_train, y_test = train_test_split(X, y, test_size=0.33, random_state=42)"
   ]
  },
  {
   "cell_type": "code",
   "execution_count": 124,
   "metadata": {},
   "outputs": [
    {
     "data": {
      "text/plain": [
       "LogisticRegression(C=1.0, class_weight='balanced', dual=False,\n",
       "          fit_intercept=True, intercept_scaling=1, max_iter=100,\n",
       "          multi_class='warn', n_jobs=None, penalty='l2', random_state=None,\n",
       "          solver='newton-cg', tol=0.0001, verbose=0, warm_start=False)"
      ]
     },
     "execution_count": 124,
     "metadata": {},
     "output_type": "execute_result"
    }
   ],
   "source": [
    "from sklearn.linear_model import LogisticRegression\n",
    "\n",
    "#from previous modeling use C =10\n",
    "\n",
    "model_log = LogisticRegression(\n",
    "  class_weight= 'balanced',\n",
    "  solver='newton-cg',\n",
    "  fit_intercept=True\n",
    "  )\n",
    "\n",
    "model_log.fit(X_train,y_train)"
   ]
  },
  {
   "cell_type": "code",
   "execution_count": 125,
   "metadata": {},
   "outputs": [],
   "source": [
    "y_predict_log = model_log.predict(X_test)"
   ]
  },
  {
   "cell_type": "code",
   "execution_count": 128,
   "metadata": {},
   "outputs": [
    {
     "data": {
      "text/plain": [
       "0.805935014859066"
      ]
     },
     "execution_count": 128,
     "metadata": {},
     "output_type": "execute_result"
    }
   ],
   "source": [
    "from sklearn.metrics import f1_score\n",
    "f1_score(y_test, y_predict_log, average='weighted')  "
   ]
  },
  {
   "cell_type": "code",
   "execution_count": 86,
   "metadata": {},
   "outputs": [],
   "source": [
    "MSE = np.mean(np.square(y_predict_log - y_test))"
   ]
  },
  {
   "cell_type": "code",
   "execution_count": 87,
   "metadata": {},
   "outputs": [
    {
     "data": {
      "text/plain": [
       "0.26918492334251304"
      ]
     },
     "execution_count": 87,
     "metadata": {},
     "output_type": "execute_result"
    }
   ],
   "source": [
    "MSE"
   ]
  },
  {
   "cell_type": "code",
   "execution_count": 95,
   "metadata": {},
   "outputs": [
    {
     "data": {
      "text/plain": [
       "array([[ 4499,  1176,   808],\n",
       "       [ 2215, 23399, 11147],\n",
       "       [ 1198,  3634, 49240]])"
      ]
     },
     "execution_count": 95,
     "metadata": {},
     "output_type": "execute_result"
    }
   ],
   "source": [
    "from sklearn.metrics import confusion_matrix, roc_curve, roc_auc_score\n",
    "\n",
    "confusion_matrix(y_predict_log,y_test)"
   ]
  },
  {
   "cell_type": "code",
   "execution_count": null,
   "metadata": {},
   "outputs": [],
   "source": [
    "# accuracy: 80% (77138 / 97316)"
   ]
  },
  {
   "cell_type": "markdown",
   "metadata": {},
   "source": [
    "### Try different classification algorithm"
   ]
  },
  {
   "cell_type": "code",
   "execution_count": 110,
   "metadata": {},
   "outputs": [
    {
     "data": {
      "text/plain": [
       "MultinomialNB(alpha=10, class_prior=None, fit_prior=True)"
      ]
     },
     "execution_count": 110,
     "metadata": {},
     "output_type": "execute_result"
    }
   ],
   "source": [
    "# Multi-nomial naive bayes, it requires all X inputs are non-negative\n",
    "# Normalize X\n",
    "# Tried different alpha: 0, 1 and 10, the accuracy results are indifferent\n",
    "# Additive (Laplace/Lidstone) smoothing parameter (0 for no smoothing)\n",
    "\n",
    "X_norm = (X - X.min()) / (X.max() - X.min())\n",
    "X_train, X_test, y_train, y_test = train_test_split(X_norm, y, test_size=0.33, random_state=42)\n",
    "\n",
    "import numpy as np\n",
    "from sklearn.naive_bayes import MultinomialNB\n",
    "\n",
    "clf = MultinomialNB()\n",
    "clf.fit(X_train,y_train)\n",
    "MultinomialNB(alpha=1, class_prior=None, fit_prior=True)"
   ]
  },
  {
   "cell_type": "code",
   "execution_count": 111,
   "metadata": {},
   "outputs": [],
   "source": [
    "y_predict_bayes = clf.predict(X_test)"
   ]
  },
  {
   "cell_type": "code",
   "execution_count": 112,
   "metadata": {},
   "outputs": [
    {
     "data": {
      "text/plain": [
       "array([[ 3099,   459,    40],\n",
       "       [    0,     0,     0],\n",
       "       [ 4813, 27750, 61155]])"
      ]
     },
     "execution_count": 112,
     "metadata": {},
     "output_type": "execute_result"
    }
   ],
   "source": [
    "from sklearn.metrics import confusion_matrix, roc_curve, roc_auc_score\n",
    "\n",
    "confusion_matrix(y_predict_bayes,y_test)"
   ]
  },
  {
   "cell_type": "code",
   "execution_count": 106,
   "metadata": {},
   "outputs": [],
   "source": [
    "# Accuracy is 64%"
   ]
  },
  {
   "cell_type": "markdown",
   "metadata": {},
   "source": [
    "### Clustering"
   ]
  },
  {
   "cell_type": "code",
   "execution_count": 113,
   "metadata": {},
   "outputs": [],
   "source": [
    "with open('clean_sents_adjusted.pkl','rb') as read_file:\n",
    "    clean_sents = pickle.load(read_file)"
   ]
  },
  {
   "cell_type": "code",
   "execution_count": null,
   "metadata": {},
   "outputs": [],
   "source": [
    "#remove hosts name (there are a lot commonly used names)!!!!\n",
    "\n",
    "# stoplist = set('jenny tara jen sebastian micheal barbara scott lauren rick brett'.split())\n",
    "# clean_sents = [[word for word in text if word not in stoplist]\n",
    "#          for text in clean_sents]"
   ]
  },
  {
   "cell_type": "code",
   "execution_count": 114,
   "metadata": {},
   "outputs": [],
   "source": [
    "# use word2Vec model to assign density score to review by sentences\n",
    "sentence_vector_no_stopword = getAvgFeatureVecs(clean_sents, model_word2vec, num_features, index2word_set)"
   ]
  },
  {
   "cell_type": "code",
   "execution_count": 115,
   "metadata": {},
   "outputs": [],
   "source": [
    "sentence_vector_no_stopword_df = ProcessWordVec(sentence_vector_no_stopword)"
   ]
  },
  {
   "cell_type": "code",
   "execution_count": 120,
   "metadata": {},
   "outputs": [
    {
     "data": {
      "text/plain": [
       "KMeans(algorithm='auto', copy_x=True, init='k-means++', max_iter=300,\n",
       "    n_clusters=20, n_init=10, n_jobs=None, precompute_distances='auto',\n",
       "    random_state=None, tol=0.0001, verbose=0)"
      ]
     },
     "execution_count": 120,
     "metadata": {},
     "output_type": "execute_result"
    }
   ],
   "source": [
    "#The sentence_vector_no_stopword_df is used to cluster(??? i used the sentence with stop word to cluster)\n",
    "from sklearn.cluster import KMeans\n",
    "km_300_10 = KMeans(n_clusters=20)\n",
    "km_300_10.fit(sentence_vector_no_stopword_df)"
   ]
  },
  {
   "cell_type": "code",
   "execution_count": 121,
   "metadata": {},
   "outputs": [],
   "source": [
    "#similar_by_vector(vector, topn=10, restrict_vocab=None)\n",
    "def Get_centroid_word(centroids,model):\n",
    "    word_list = []\n",
    "    for vector in centroids:\n",
    "        words = model.similar_by_vector(vector, topn=10)\n",
    "        word_list.append(words)\n",
    "        \n",
    "    return word_list"
   ]
  },
  {
   "cell_type": "code",
   "execution_count": 122,
   "metadata": {},
   "outputs": [],
   "source": [
    "centroids_300_10 = km_300_10.cluster_centers_\n",
    "topics_300_10 = Get_centroid_word(centroids_300_10,model_word2vec)"
   ]
  }
 ],
 "metadata": {
  "kernelspec": {
   "display_name": "Python 3",
   "language": "python",
   "name": "python3"
  },
  "language_info": {
   "codemirror_mode": {
    "name": "ipython",
    "version": 3
   },
   "file_extension": ".py",
   "mimetype": "text/x-python",
   "name": "python",
   "nbconvert_exporter": "python",
   "pygments_lexer": "ipython3",
   "version": "3.6.8"
  }
 },
 "nbformat": 4,
 "nbformat_minor": 2
}
